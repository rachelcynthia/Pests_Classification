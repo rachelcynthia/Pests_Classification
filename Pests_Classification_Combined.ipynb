{
  "nbformat": 4,
  "nbformat_minor": 0,
  "metadata": {
    "colab": {
      "name": "Pests_Classification_Combined.ipynb",
      "provenance": [],
      "collapsed_sections": [],
      "mount_file_id": "1FRuqGkgXI4ne8ILX_nk7NNZ4H17WJhxK",
      "authorship_tag": "ABX9TyMWMT7KFvZl2gpLMm2YDMzW",
      "include_colab_link": true
    },
    "kernelspec": {
      "name": "python3",
      "display_name": "Python 3"
    },
    "language_info": {
      "name": "python"
    }
  },
  "cells": [
    {
      "cell_type": "markdown",
      "metadata": {
        "id": "view-in-github",
        "colab_type": "text"
      },
      "source": [
        "<a href=\"https://colab.research.google.com/github/rachelcynthia/Pests_Classification/blob/main/Pests_Classification_Combined.ipynb\" target=\"_parent\"><img src=\"https://colab.research.google.com/assets/colab-badge.svg\" alt=\"Open In Colab\"/></a>"
      ]
    },
    {
      "cell_type": "code",
      "metadata": {
        "id": "9UDzzJWBP7bM"
      },
      "source": [
        "import pandas as pd\n",
        "from numpy import asarray\n",
        "import numpy as np\n",
        "from ast import literal_eval\n",
        "from PIL import Image\n",
        "from numpy import asarray\n",
        "from ast import literal_eval\n",
        "import matplotlib.pyplot as plt\n",
        "from keras.utils import np_utils"
      ],
      "execution_count": null,
      "outputs": []
    },
    {
      "cell_type": "markdown",
      "metadata": {
        "id": "oDYbp9nARAOb"
      },
      "source": [
        "# Getting the test data and modifying it"
      ]
    },
    {
      "cell_type": "code",
      "metadata": {
        "id": "w9r4vVMDoQgV"
      },
      "source": [
        "class_names = [\"aphid\",\"caterpillar\",\"cutworm\",\"earheadbug\",\"leafhopper\",\"locust\",\"mites\",\"slaters\",\"stemborer\",\"thrips\",\"weevil\",\"whitefly\"]\n",
        "images_array = []\n",
        "labels_array = []\n",
        "for i in range(len(class_names)):\n",
        "  for j in range(5):\n",
        "    img = Image.open(r'/content/drive/MyDrive/Pests Dataset/test/' + class_names[i] + '/' + str(j+1) + '.jpg')\n",
        "    data = asarray(img)\n",
        "    images_array.append(data)\n",
        "    labels_array.append(i)"
      ],
      "execution_count": null,
      "outputs": []
    },
    {
      "cell_type": "code",
      "metadata": {
        "id": "7xkE7t7cofF5"
      },
      "source": [
        "img_arr =[]\n",
        "for i in range(len(images_array)):\n",
        "  arr = np.array(images_array[i])\n",
        "  l = arr.tolist()\n",
        "  img_arr.append(l)"
      ],
      "execution_count": null,
      "outputs": []
    },
    {
      "cell_type": "code",
      "metadata": {
        "id": "zWKbedvsooqS"
      },
      "source": [
        "dataset = pd.DataFrame({'labels': labels_array, 'image': img_arr})\n",
        "dataset.to_csv('test_set.csv')"
      ],
      "execution_count": null,
      "outputs": []
    },
    {
      "cell_type": "code",
      "metadata": {
        "colab": {
          "base_uri": "https://localhost:8080/",
          "height": 1000
        },
        "id": "8ULoDGwVRAOc",
        "outputId": "4105e613-041c-4882-bb49-401c4b30a1c9"
      },
      "source": [
        "test_set = pd.read_csv(\"test_set.csv\")\n",
        "test_set"
      ],
      "execution_count": null,
      "outputs": [
        {
          "output_type": "execute_result",
          "data": {
            "text/html": [
              "<div>\n",
              "<style scoped>\n",
              "    .dataframe tbody tr th:only-of-type {\n",
              "        vertical-align: middle;\n",
              "    }\n",
              "\n",
              "    .dataframe tbody tr th {\n",
              "        vertical-align: top;\n",
              "    }\n",
              "\n",
              "    .dataframe thead th {\n",
              "        text-align: right;\n",
              "    }\n",
              "</style>\n",
              "<table border=\"1\" class=\"dataframe\">\n",
              "  <thead>\n",
              "    <tr style=\"text-align: right;\">\n",
              "      <th></th>\n",
              "      <th>Unnamed: 0</th>\n",
              "      <th>labels</th>\n",
              "      <th>image</th>\n",
              "    </tr>\n",
              "  </thead>\n",
              "  <tbody>\n",
              "    <tr>\n",
              "      <th>0</th>\n",
              "      <td>0</td>\n",
              "      <td>0</td>\n",
              "      <td>[[[140, 184, 148], [140, 184, 148], [140, 184,...</td>\n",
              "    </tr>\n",
              "    <tr>\n",
              "      <th>1</th>\n",
              "      <td>1</td>\n",
              "      <td>0</td>\n",
              "      <td>[[[98, 141, 52], [98, 141, 52], [98, 141, 52],...</td>\n",
              "    </tr>\n",
              "    <tr>\n",
              "      <th>2</th>\n",
              "      <td>2</td>\n",
              "      <td>0</td>\n",
              "      <td>[[[170, 202, 127], [170, 202, 127], [170, 202,...</td>\n",
              "    </tr>\n",
              "    <tr>\n",
              "      <th>3</th>\n",
              "      <td>3</td>\n",
              "      <td>0</td>\n",
              "      <td>[[[62, 109, 54], [68, 115, 60], [63, 111, 53],...</td>\n",
              "    </tr>\n",
              "    <tr>\n",
              "      <th>4</th>\n",
              "      <td>4</td>\n",
              "      <td>0</td>\n",
              "      <td>[[[143, 174, 55], [128, 159, 39], [135, 166, 4...</td>\n",
              "    </tr>\n",
              "    <tr>\n",
              "      <th>5</th>\n",
              "      <td>5</td>\n",
              "      <td>1</td>\n",
              "      <td>[[[76, 124, 25], [78, 126, 27], [82, 128, 30],...</td>\n",
              "    </tr>\n",
              "    <tr>\n",
              "      <th>6</th>\n",
              "      <td>6</td>\n",
              "      <td>1</td>\n",
              "      <td>[[[81, 143, 18], [78, 138, 14], [84, 144, 22],...</td>\n",
              "    </tr>\n",
              "    <tr>\n",
              "      <th>7</th>\n",
              "      <td>7</td>\n",
              "      <td>1</td>\n",
              "      <td>[[[158, 207, 160], [160, 209, 162], [162, 209,...</td>\n",
              "    </tr>\n",
              "    <tr>\n",
              "      <th>8</th>\n",
              "      <td>8</td>\n",
              "      <td>1</td>\n",
              "      <td>[[[21, 38, 2], [21, 38, 2], [21, 38, 2], [21, ...</td>\n",
              "    </tr>\n",
              "    <tr>\n",
              "      <th>9</th>\n",
              "      <td>9</td>\n",
              "      <td>1</td>\n",
              "      <td>[[[78, 69, 60], [73, 66, 58], [67, 60, 52], [6...</td>\n",
              "    </tr>\n",
              "    <tr>\n",
              "      <th>10</th>\n",
              "      <td>10</td>\n",
              "      <td>2</td>\n",
              "      <td>[[[200, 155, 122], [141, 96, 63], [132, 87, 54...</td>\n",
              "    </tr>\n",
              "    <tr>\n",
              "      <th>11</th>\n",
              "      <td>11</td>\n",
              "      <td>2</td>\n",
              "      <td>[[[107, 142, 122], [104, 142, 121], [103, 141,...</td>\n",
              "    </tr>\n",
              "    <tr>\n",
              "      <th>12</th>\n",
              "      <td>12</td>\n",
              "      <td>2</td>\n",
              "      <td>[[[16, 15, 29], [0, 0, 12], [24, 28, 39], [114...</td>\n",
              "    </tr>\n",
              "    <tr>\n",
              "      <th>13</th>\n",
              "      <td>13</td>\n",
              "      <td>2</td>\n",
              "      <td>[[[255, 255, 255], [255, 255, 255], [255, 255,...</td>\n",
              "    </tr>\n",
              "    <tr>\n",
              "      <th>14</th>\n",
              "      <td>14</td>\n",
              "      <td>2</td>\n",
              "      <td>[[[99, 90, 81], [108, 99, 90], [125, 116, 107]...</td>\n",
              "    </tr>\n",
              "    <tr>\n",
              "      <th>15</th>\n",
              "      <td>15</td>\n",
              "      <td>3</td>\n",
              "      <td>[[[255, 255, 241], [240, 238, 223], [255, 255,...</td>\n",
              "    </tr>\n",
              "    <tr>\n",
              "      <th>16</th>\n",
              "      <td>16</td>\n",
              "      <td>3</td>\n",
              "      <td>[[[14, 29, 10], [14, 29, 10], [14, 29, 10], [1...</td>\n",
              "    </tr>\n",
              "    <tr>\n",
              "      <th>17</th>\n",
              "      <td>17</td>\n",
              "      <td>3</td>\n",
              "      <td>[[[231, 229, 191], [166, 164, 126], [201, 199,...</td>\n",
              "    </tr>\n",
              "    <tr>\n",
              "      <th>18</th>\n",
              "      <td>18</td>\n",
              "      <td>3</td>\n",
              "      <td>[[[115, 160, 55], [115, 160, 55], [115, 160, 5...</td>\n",
              "    </tr>\n",
              "    <tr>\n",
              "      <th>19</th>\n",
              "      <td>19</td>\n",
              "      <td>3</td>\n",
              "      <td>[[[58, 82, 30], [59, 83, 33], [61, 85, 37], [6...</td>\n",
              "    </tr>\n",
              "    <tr>\n",
              "      <th>20</th>\n",
              "      <td>20</td>\n",
              "      <td>4</td>\n",
              "      <td>[[[218, 229, 98], [219, 230, 100], [221, 232, ...</td>\n",
              "    </tr>\n",
              "    <tr>\n",
              "      <th>21</th>\n",
              "      <td>21</td>\n",
              "      <td>4</td>\n",
              "      <td>[[[62, 111, 2], [62, 111, 2], [62, 111, 2], [6...</td>\n",
              "    </tr>\n",
              "    <tr>\n",
              "      <th>22</th>\n",
              "      <td>22</td>\n",
              "      <td>4</td>\n",
              "      <td>[[[109, 141, 78], [112, 142, 80], [113, 143, 8...</td>\n",
              "    </tr>\n",
              "    <tr>\n",
              "      <th>23</th>\n",
              "      <td>23</td>\n",
              "      <td>4</td>\n",
              "      <td>[[[83, 136, 48], [83, 136, 48], [90, 143, 55],...</td>\n",
              "    </tr>\n",
              "    <tr>\n",
              "      <th>24</th>\n",
              "      <td>24</td>\n",
              "      <td>4</td>\n",
              "      <td>[[[31, 96, 14], [31, 96, 14], [32, 97, 15], [3...</td>\n",
              "    </tr>\n",
              "    <tr>\n",
              "      <th>25</th>\n",
              "      <td>25</td>\n",
              "      <td>5</td>\n",
              "      <td>[[[142, 156, 71], [139, 151, 79], [144, 158, 8...</td>\n",
              "    </tr>\n",
              "    <tr>\n",
              "      <th>26</th>\n",
              "      <td>26</td>\n",
              "      <td>5</td>\n",
              "      <td>[[[132, 113, 107], [131, 112, 106], [127, 110,...</td>\n",
              "    </tr>\n",
              "    <tr>\n",
              "      <th>27</th>\n",
              "      <td>27</td>\n",
              "      <td>5</td>\n",
              "      <td>[[[15, 24, 5], [12, 21, 2], [9, 18, 0], [12, 2...</td>\n",
              "    </tr>\n",
              "    <tr>\n",
              "      <th>28</th>\n",
              "      <td>28</td>\n",
              "      <td>5</td>\n",
              "      <td>[[[251, 250, 248], [251, 250, 248], [251, 250,...</td>\n",
              "    </tr>\n",
              "    <tr>\n",
              "      <th>29</th>\n",
              "      <td>29</td>\n",
              "      <td>5</td>\n",
              "      <td>[[[23, 26, 9], [21, 24, 7], [18, 21, 4], [16, ...</td>\n",
              "    </tr>\n",
              "    <tr>\n",
              "      <th>30</th>\n",
              "      <td>30</td>\n",
              "      <td>6</td>\n",
              "      <td>[[[117, 100, 84], [118, 101, 85], [118, 101, 8...</td>\n",
              "    </tr>\n",
              "    <tr>\n",
              "      <th>31</th>\n",
              "      <td>31</td>\n",
              "      <td>6</td>\n",
              "      <td>[[[0, 17, 0], [81, 109, 87], [101, 129, 107], ...</td>\n",
              "    </tr>\n",
              "    <tr>\n",
              "      <th>32</th>\n",
              "      <td>32</td>\n",
              "      <td>6</td>\n",
              "      <td>[[[107, 129, 54], [107, 129, 54], [108, 130, 5...</td>\n",
              "    </tr>\n",
              "    <tr>\n",
              "      <th>33</th>\n",
              "      <td>33</td>\n",
              "      <td>6</td>\n",
              "      <td>[[[172, 162, 77], [168, 158, 73], [160, 149, 6...</td>\n",
              "    </tr>\n",
              "    <tr>\n",
              "      <th>34</th>\n",
              "      <td>34</td>\n",
              "      <td>6</td>\n",
              "      <td>[[[18, 12, 24], [3, 0, 7], [3, 0, 5], [4, 2, 3...</td>\n",
              "    </tr>\n",
              "    <tr>\n",
              "      <th>35</th>\n",
              "      <td>35</td>\n",
              "      <td>7</td>\n",
              "      <td>[[[20, 0, 10], [18, 0, 7], [17, 0, 2], [19, 0,...</td>\n",
              "    </tr>\n",
              "    <tr>\n",
              "      <th>36</th>\n",
              "      <td>36</td>\n",
              "      <td>7</td>\n",
              "      <td>[[[255, 255, 255], [255, 255, 255], [255, 255,...</td>\n",
              "    </tr>\n",
              "    <tr>\n",
              "      <th>37</th>\n",
              "      <td>37</td>\n",
              "      <td>7</td>\n",
              "      <td>[[[90, 87, 78], [121, 118, 109], [111, 108, 99...</td>\n",
              "    </tr>\n",
              "    <tr>\n",
              "      <th>38</th>\n",
              "      <td>38</td>\n",
              "      <td>7</td>\n",
              "      <td>[[[233, 235, 232], [233, 235, 232], [233, 235,...</td>\n",
              "    </tr>\n",
              "    <tr>\n",
              "      <th>39</th>\n",
              "      <td>39</td>\n",
              "      <td>7</td>\n",
              "      <td>[[[184, 183, 127], [186, 185, 129], [198, 197,...</td>\n",
              "    </tr>\n",
              "    <tr>\n",
              "      <th>40</th>\n",
              "      <td>40</td>\n",
              "      <td>8</td>\n",
              "      <td>[[[34, 36, 51], [34, 36, 51], [34, 36, 51], [3...</td>\n",
              "    </tr>\n",
              "    <tr>\n",
              "      <th>41</th>\n",
              "      <td>41</td>\n",
              "      <td>8</td>\n",
              "      <td>[[[86, 74, 96], [78, 66, 88], [69, 57, 79], [6...</td>\n",
              "    </tr>\n",
              "    <tr>\n",
              "      <th>42</th>\n",
              "      <td>42</td>\n",
              "      <td>8</td>\n",
              "      <td>[[[214, 127, 74], [214, 127, 74], [214, 127, 7...</td>\n",
              "    </tr>\n",
              "    <tr>\n",
              "      <th>43</th>\n",
              "      <td>43</td>\n",
              "      <td>8</td>\n",
              "      <td>[[[87, 95, 56], [85, 93, 56], [81, 89, 52], [7...</td>\n",
              "    </tr>\n",
              "    <tr>\n",
              "      <th>44</th>\n",
              "      <td>44</td>\n",
              "      <td>8</td>\n",
              "      <td>[[[64, 64, 62], [2, 2, 0], [10, 10, 8], [10, 1...</td>\n",
              "    </tr>\n",
              "    <tr>\n",
              "      <th>45</th>\n",
              "      <td>45</td>\n",
              "      <td>9</td>\n",
              "      <td>[[[140, 152, 86], [145, 157, 91], [152, 164, 9...</td>\n",
              "    </tr>\n",
              "    <tr>\n",
              "      <th>46</th>\n",
              "      <td>46</td>\n",
              "      <td>9</td>\n",
              "      <td>[[[166, 170, 73], [166, 170, 73], [165, 169, 7...</td>\n",
              "    </tr>\n",
              "    <tr>\n",
              "      <th>47</th>\n",
              "      <td>47</td>\n",
              "      <td>9</td>\n",
              "      <td>[[[126, 147, 42], [128, 149, 46], [111, 132, 2...</td>\n",
              "    </tr>\n",
              "    <tr>\n",
              "      <th>48</th>\n",
              "      <td>48</td>\n",
              "      <td>9</td>\n",
              "      <td>[[[84, 142, 40], [89, 147, 45], [93, 151, 49],...</td>\n",
              "    </tr>\n",
              "    <tr>\n",
              "      <th>49</th>\n",
              "      <td>49</td>\n",
              "      <td>9</td>\n",
              "      <td>[[[118, 130, 48], [118, 131, 49], [119, 132, 5...</td>\n",
              "    </tr>\n",
              "    <tr>\n",
              "      <th>50</th>\n",
              "      <td>50</td>\n",
              "      <td>10</td>\n",
              "      <td>[[[50, 73, 21], [54, 77, 23], [60, 83, 27], [6...</td>\n",
              "    </tr>\n",
              "    <tr>\n",
              "      <th>51</th>\n",
              "      <td>51</td>\n",
              "      <td>10</td>\n",
              "      <td>[[[147, 209, 100], [147, 209, 100], [147, 209,...</td>\n",
              "    </tr>\n",
              "    <tr>\n",
              "      <th>52</th>\n",
              "      <td>52</td>\n",
              "      <td>10</td>\n",
              "      <td>[[[50, 73, 21], [54, 77, 23], [60, 83, 27], [6...</td>\n",
              "    </tr>\n",
              "    <tr>\n",
              "      <th>53</th>\n",
              "      <td>53</td>\n",
              "      <td>10</td>\n",
              "      <td>[[[211, 215, 190], [211, 215, 190], [211, 215,...</td>\n",
              "    </tr>\n",
              "    <tr>\n",
              "      <th>54</th>\n",
              "      <td>54</td>\n",
              "      <td>10</td>\n",
              "      <td>[[[171, 197, 87], [171, 197, 87], [172, 198, 8...</td>\n",
              "    </tr>\n",
              "    <tr>\n",
              "      <th>55</th>\n",
              "      <td>55</td>\n",
              "      <td>11</td>\n",
              "      <td>[[[29, 31, 30], [26, 28, 27], [23, 25, 24], [2...</td>\n",
              "    </tr>\n",
              "    <tr>\n",
              "      <th>56</th>\n",
              "      <td>56</td>\n",
              "      <td>11</td>\n",
              "      <td>[[[98, 135, 91], [98, 135, 91], [99, 136, 92],...</td>\n",
              "    </tr>\n",
              "    <tr>\n",
              "      <th>57</th>\n",
              "      <td>57</td>\n",
              "      <td>11</td>\n",
              "      <td>[[[68, 68, 30], [68, 68, 30], [68, 68, 30], [6...</td>\n",
              "    </tr>\n",
              "    <tr>\n",
              "      <th>58</th>\n",
              "      <td>58</td>\n",
              "      <td>11</td>\n",
              "      <td>[[[240, 248, 209], [208, 216, 177], [177, 185,...</td>\n",
              "    </tr>\n",
              "    <tr>\n",
              "      <th>59</th>\n",
              "      <td>59</td>\n",
              "      <td>11</td>\n",
              "      <td>[[[47, 74, 19], [44, 71, 16], [53, 80, 25], [6...</td>\n",
              "    </tr>\n",
              "  </tbody>\n",
              "</table>\n",
              "</div>"
            ],
            "text/plain": [
              "    Unnamed: 0  labels                                              image\n",
              "0            0       0  [[[140, 184, 148], [140, 184, 148], [140, 184,...\n",
              "1            1       0  [[[98, 141, 52], [98, 141, 52], [98, 141, 52],...\n",
              "2            2       0  [[[170, 202, 127], [170, 202, 127], [170, 202,...\n",
              "3            3       0  [[[62, 109, 54], [68, 115, 60], [63, 111, 53],...\n",
              "4            4       0  [[[143, 174, 55], [128, 159, 39], [135, 166, 4...\n",
              "5            5       1  [[[76, 124, 25], [78, 126, 27], [82, 128, 30],...\n",
              "6            6       1  [[[81, 143, 18], [78, 138, 14], [84, 144, 22],...\n",
              "7            7       1  [[[158, 207, 160], [160, 209, 162], [162, 209,...\n",
              "8            8       1  [[[21, 38, 2], [21, 38, 2], [21, 38, 2], [21, ...\n",
              "9            9       1  [[[78, 69, 60], [73, 66, 58], [67, 60, 52], [6...\n",
              "10          10       2  [[[200, 155, 122], [141, 96, 63], [132, 87, 54...\n",
              "11          11       2  [[[107, 142, 122], [104, 142, 121], [103, 141,...\n",
              "12          12       2  [[[16, 15, 29], [0, 0, 12], [24, 28, 39], [114...\n",
              "13          13       2  [[[255, 255, 255], [255, 255, 255], [255, 255,...\n",
              "14          14       2  [[[99, 90, 81], [108, 99, 90], [125, 116, 107]...\n",
              "15          15       3  [[[255, 255, 241], [240, 238, 223], [255, 255,...\n",
              "16          16       3  [[[14, 29, 10], [14, 29, 10], [14, 29, 10], [1...\n",
              "17          17       3  [[[231, 229, 191], [166, 164, 126], [201, 199,...\n",
              "18          18       3  [[[115, 160, 55], [115, 160, 55], [115, 160, 5...\n",
              "19          19       3  [[[58, 82, 30], [59, 83, 33], [61, 85, 37], [6...\n",
              "20          20       4  [[[218, 229, 98], [219, 230, 100], [221, 232, ...\n",
              "21          21       4  [[[62, 111, 2], [62, 111, 2], [62, 111, 2], [6...\n",
              "22          22       4  [[[109, 141, 78], [112, 142, 80], [113, 143, 8...\n",
              "23          23       4  [[[83, 136, 48], [83, 136, 48], [90, 143, 55],...\n",
              "24          24       4  [[[31, 96, 14], [31, 96, 14], [32, 97, 15], [3...\n",
              "25          25       5  [[[142, 156, 71], [139, 151, 79], [144, 158, 8...\n",
              "26          26       5  [[[132, 113, 107], [131, 112, 106], [127, 110,...\n",
              "27          27       5  [[[15, 24, 5], [12, 21, 2], [9, 18, 0], [12, 2...\n",
              "28          28       5  [[[251, 250, 248], [251, 250, 248], [251, 250,...\n",
              "29          29       5  [[[23, 26, 9], [21, 24, 7], [18, 21, 4], [16, ...\n",
              "30          30       6  [[[117, 100, 84], [118, 101, 85], [118, 101, 8...\n",
              "31          31       6  [[[0, 17, 0], [81, 109, 87], [101, 129, 107], ...\n",
              "32          32       6  [[[107, 129, 54], [107, 129, 54], [108, 130, 5...\n",
              "33          33       6  [[[172, 162, 77], [168, 158, 73], [160, 149, 6...\n",
              "34          34       6  [[[18, 12, 24], [3, 0, 7], [3, 0, 5], [4, 2, 3...\n",
              "35          35       7  [[[20, 0, 10], [18, 0, 7], [17, 0, 2], [19, 0,...\n",
              "36          36       7  [[[255, 255, 255], [255, 255, 255], [255, 255,...\n",
              "37          37       7  [[[90, 87, 78], [121, 118, 109], [111, 108, 99...\n",
              "38          38       7  [[[233, 235, 232], [233, 235, 232], [233, 235,...\n",
              "39          39       7  [[[184, 183, 127], [186, 185, 129], [198, 197,...\n",
              "40          40       8  [[[34, 36, 51], [34, 36, 51], [34, 36, 51], [3...\n",
              "41          41       8  [[[86, 74, 96], [78, 66, 88], [69, 57, 79], [6...\n",
              "42          42       8  [[[214, 127, 74], [214, 127, 74], [214, 127, 7...\n",
              "43          43       8  [[[87, 95, 56], [85, 93, 56], [81, 89, 52], [7...\n",
              "44          44       8  [[[64, 64, 62], [2, 2, 0], [10, 10, 8], [10, 1...\n",
              "45          45       9  [[[140, 152, 86], [145, 157, 91], [152, 164, 9...\n",
              "46          46       9  [[[166, 170, 73], [166, 170, 73], [165, 169, 7...\n",
              "47          47       9  [[[126, 147, 42], [128, 149, 46], [111, 132, 2...\n",
              "48          48       9  [[[84, 142, 40], [89, 147, 45], [93, 151, 49],...\n",
              "49          49       9  [[[118, 130, 48], [118, 131, 49], [119, 132, 5...\n",
              "50          50      10  [[[50, 73, 21], [54, 77, 23], [60, 83, 27], [6...\n",
              "51          51      10  [[[147, 209, 100], [147, 209, 100], [147, 209,...\n",
              "52          52      10  [[[50, 73, 21], [54, 77, 23], [60, 83, 27], [6...\n",
              "53          53      10  [[[211, 215, 190], [211, 215, 190], [211, 215,...\n",
              "54          54      10  [[[171, 197, 87], [171, 197, 87], [172, 198, 8...\n",
              "55          55      11  [[[29, 31, 30], [26, 28, 27], [23, 25, 24], [2...\n",
              "56          56      11  [[[98, 135, 91], [98, 135, 91], [99, 136, 92],...\n",
              "57          57      11  [[[68, 68, 30], [68, 68, 30], [68, 68, 30], [6...\n",
              "58          58      11  [[[240, 248, 209], [208, 216, 177], [177, 185,...\n",
              "59          59      11  [[[47, 74, 19], [44, 71, 16], [53, 80, 25], [6..."
            ]
          },
          "metadata": {
            "tags": []
          },
          "execution_count": 5
        }
      ]
    },
    {
      "cell_type": "code",
      "metadata": {
        "colab": {
          "base_uri": "https://localhost:8080/"
        },
        "id": "StrhZ-J_RAOc",
        "outputId": "30ca76a7-daa4-4fd4-c7a0-b6310459a1ce"
      },
      "source": [
        "x_t = test_set['image']\n",
        "x_t[:2]"
      ],
      "execution_count": null,
      "outputs": [
        {
          "output_type": "execute_result",
          "data": {
            "text/plain": [
              "0    [[[140, 184, 148], [140, 184, 148], [140, 184,...\n",
              "1    [[[98, 141, 52], [98, 141, 52], [98, 141, 52],...\n",
              "Name: image, dtype: object"
            ]
          },
          "metadata": {
            "tags": []
          },
          "execution_count": 6
        }
      ]
    },
    {
      "cell_type": "code",
      "metadata": {
        "colab": {
          "base_uri": "https://localhost:8080/"
        },
        "id": "okgMSweSRAOc",
        "outputId": "aa23f85d-6f46-4dc8-d1d5-65550c2fd950"
      },
      "source": [
        "y_test = test_set['labels']\n",
        "y_test[:2]"
      ],
      "execution_count": null,
      "outputs": [
        {
          "output_type": "execute_result",
          "data": {
            "text/plain": [
              "0    0\n",
              "1    0\n",
              "Name: labels, dtype: int64"
            ]
          },
          "metadata": {
            "tags": []
          },
          "execution_count": 7
        }
      ]
    },
    {
      "cell_type": "code",
      "metadata": {
        "colab": {
          "base_uri": "https://localhost:8080/"
        },
        "id": "X6Z_C6clRAOc",
        "outputId": "27227438-11e9-4fc0-b4c9-a27bef2e6672"
      },
      "source": [
        "y_test = np.array([i for i in y_test])\n",
        "y_test"
      ],
      "execution_count": null,
      "outputs": [
        {
          "output_type": "execute_result",
          "data": {
            "text/plain": [
              "array([ 0,  0,  0,  0,  0,  1,  1,  1,  1,  1,  2,  2,  2,  2,  2,  3,  3,\n",
              "        3,  3,  3,  4,  4,  4,  4,  4,  5,  5,  5,  5,  5,  6,  6,  6,  6,\n",
              "        6,  7,  7,  7,  7,  7,  8,  8,  8,  8,  8,  9,  9,  9,  9,  9, 10,\n",
              "       10, 10, 10, 10, 11, 11, 11, 11, 11])"
            ]
          },
          "metadata": {
            "tags": []
          },
          "execution_count": 8
        }
      ]
    },
    {
      "cell_type": "code",
      "metadata": {
        "colab": {
          "base_uri": "https://localhost:8080/"
        },
        "id": "tOdo1S4mRAOc",
        "outputId": "0b461e9c-7bd9-41ae-a852-179173f68fa3"
      },
      "source": [
        "for i in range(len(x_t)):\n",
        "  a = np.array(literal_eval(x_t[i]))\n",
        "  a = a.astype(np.uint8)\n",
        "  x_t[i] = a"
      ],
      "execution_count": null,
      "outputs": [
        {
          "output_type": "stream",
          "text": [
            "/usr/local/lib/python3.7/dist-packages/ipykernel_launcher.py:4: SettingWithCopyWarning: \n",
            "A value is trying to be set on a copy of a slice from a DataFrame\n",
            "\n",
            "See the caveats in the documentation: https://pandas.pydata.org/pandas-docs/stable/user_guide/indexing.html#returning-a-view-versus-a-copy\n",
            "  after removing the cwd from sys.path.\n"
          ],
          "name": "stderr"
        }
      ]
    },
    {
      "cell_type": "code",
      "metadata": {
        "colab": {
          "base_uri": "https://localhost:8080/"
        },
        "id": "kLoX49HhRAOd",
        "outputId": "efae8ade-8130-40f0-b2c0-99bb4b1eddb1"
      },
      "source": [
        "x_test=[]\n",
        "for i in range(len(x_t)):\n",
        "  im = Image.fromarray(x_t[i])\n",
        "  im = im.resize((180,180))\n",
        "  ar = np.asarray(im)\n",
        "  #ar = ar.tolist()\n",
        "  #ar1 = [y for y in ar]\n",
        "  x_test.append(ar)\n",
        "x_test = np.array(x_test)\n",
        "x_test.shape"
      ],
      "execution_count": null,
      "outputs": [
        {
          "output_type": "execute_result",
          "data": {
            "text/plain": [
              "(60, 180, 180, 3)"
            ]
          },
          "metadata": {
            "tags": []
          },
          "execution_count": 10
        }
      ]
    },
    {
      "cell_type": "markdown",
      "metadata": {
        "id": "DSYf6v2cV_Cm"
      },
      "source": [
        "# The Model(Create, Fit, Evaluate)"
      ]
    },
    {
      "cell_type": "code",
      "metadata": {
        "colab": {
          "base_uri": "https://localhost:8080/"
        },
        "id": "g2Yxy3biO2r3",
        "outputId": "19c599a3-ed9d-4627-ac4b-0466cb29a3f6"
      },
      "source": [
        "from keras.models import load_model\n",
        "loaded_model = load_model(\"/content/drive/MyDrive/Pests_Model/rachel_sequential.h5\")\n",
        "loaded_model.summary()"
      ],
      "execution_count": null,
      "outputs": [
        {
          "output_type": "stream",
          "text": [
            "Model: \"sequential\"\n",
            "_________________________________________________________________\n",
            "Layer (type)                 Output Shape              Param #   \n",
            "=================================================================\n",
            "rescaling (Rescaling)        (None, 180, 180, 3)       0         \n",
            "_________________________________________________________________\n",
            "flatten (Flatten)            (None, 97200)             0         \n",
            "_________________________________________________________________\n",
            "dense (Dense)                (None, 512)               49766912  \n",
            "_________________________________________________________________\n",
            "dense_1 (Dense)              (None, 13)                6669      \n",
            "=================================================================\n",
            "Total params: 49,773,581\n",
            "Trainable params: 49,773,581\n",
            "Non-trainable params: 0\n",
            "_________________________________________________________________\n"
          ],
          "name": "stdout"
        }
      ]
    },
    {
      "cell_type": "markdown",
      "metadata": {
        "id": "x2U-E6ECaI6l"
      },
      "source": [
        "Evaluate the model"
      ]
    },
    {
      "cell_type": "code",
      "metadata": {
        "colab": {
          "base_uri": "https://localhost:8080/"
        },
        "id": "_cS97MMGaQwt",
        "outputId": "8b419dce-74ee-444b-9c64-aa4b6b08a748"
      },
      "source": [
        "test_loss, test_acc = loaded_model.evaluate(x_test, y_test, verbose=1)"
      ],
      "execution_count": null,
      "outputs": [
        {
          "output_type": "stream",
          "text": [
            "2/2 [==============================] - 0s 69ms/step - loss: 5.8526 - accuracy: 0.4667\n"
          ],
          "name": "stdout"
        }
      ]
    },
    {
      "cell_type": "code",
      "metadata": {
        "colab": {
          "base_uri": "https://localhost:8080/"
        },
        "id": "pZV0UJ1SVvIu",
        "outputId": "682280e3-e18e-4dc4-a0d0-b08f72849dd0"
      },
      "source": [
        "predictions = loaded_model.predict(x_test)\n",
        "predictions.shape"
      ],
      "execution_count": null,
      "outputs": [
        {
          "output_type": "execute_result",
          "data": {
            "text/plain": [
              "(60, 13)"
            ]
          },
          "metadata": {
            "tags": []
          },
          "execution_count": 13
        }
      ]
    },
    {
      "cell_type": "code",
      "metadata": {
        "colab": {
          "base_uri": "https://localhost:8080/"
        },
        "id": "UkgHBn2CVpUm",
        "outputId": "9da74fdf-eaeb-40ef-bab1-b7a46b9fce7f"
      },
      "source": [
        "y_predicted=[]\n",
        "for i in range(len(predictions)):\n",
        "  y_predicted.append(np.argmax(predictions[i]))\n",
        "len(y_predicted)"
      ],
      "execution_count": null,
      "outputs": [
        {
          "output_type": "execute_result",
          "data": {
            "text/plain": [
              "60"
            ]
          },
          "metadata": {
            "tags": []
          },
          "execution_count": 14
        }
      ]
    },
    {
      "cell_type": "code",
      "metadata": {
        "colab": {
          "base_uri": "https://localhost:8080/"
        },
        "id": "vwvGaZbDUnVf",
        "outputId": "4d7b3b88-0bd1-4288-f983-7642e459338a"
      },
      "source": [
        "plt_x = [i for i in range(60)]\n",
        "plt_y = y_test\n",
        "plt.plot(plt_x,plt_y,label=\"Actual Class\")\n",
        "plt.plot(plt_x,y_predicted, label=\"Predicted Class\")\n",
        "plt.xlabel('Images Index')\n",
        "plt.ylabel('Class of Image')\n",
        "# Set a title of the current axes.\n",
        "plt.title('Actual Vs Predicted')\n",
        "plt.show()"
      ],
      "execution_count": null,
      "outputs": [
        {
          "output_type": "display_data",
          "data": {
            "image/png": "[encoded data removed]",
            "text/plain": [
              "<Figure size 432x288 with 1 Axes>"
            ]
          },
          "metadata": {
            "tags": [],
            "needs_background": "light"
          }
        }
      ]
    },
    {
      "cell_type": "markdown",
      "metadata": {
        "id": "sd62aR7Ebe8_"
      },
      "source": [
        "For Sequential Model 2 "
      ]
    },
    {
      "cell_type": "code",
      "metadata": {
        "colab": {
          "base_uri": "https://localhost:8080/"
        },
        "id": "JFRqvDuLX5FP",
        "outputId": "95b17a4d-6e6e-4b08-bc17-344f7aa03e7c"
      },
      "source": [
        "from keras.models import load_model\n",
        "loaded_model = load_model(\"/content/drive/MyDrive/Pests_Model/rachel_sequential_1.h5\")\n",
        "loaded_model.summary()"
      ],
      "execution_count": null,
      "outputs": [
        {
          "output_type": "stream",
          "text": [
            "Model: \"sequential\"\n",
            "_________________________________________________________________\n",
            "Layer (type)                 Output Shape              Param #   \n",
            "=================================================================\n",
            "rescaling (Rescaling)        (None, 180, 180, 3)       0         \n",
            "_________________________________________________________________\n",
            "conv2d (Conv2D)              (None, 180, 180, 16)      448       \n",
            "_________________________________________________________________\n",
            "max_pooling2d (MaxPooling2D) (None, 90, 90, 16)        0         \n",
            "_________________________________________________________________\n",
            "conv2d_1 (Conv2D)            (None, 90, 90, 32)        4640      \n",
            "_________________________________________________________________\n",
            "max_pooling2d_1 (MaxPooling2 (None, 45, 45, 32)        0         \n",
            "_________________________________________________________________\n",
            "conv2d_2 (Conv2D)            (None, 45, 45, 64)        18496     \n",
            "_________________________________________________________________\n",
            "max_pooling2d_2 (MaxPooling2 (None, 22, 22, 64)        0         \n",
            "_________________________________________________________________\n",
            "flatten (Flatten)            (None, 30976)             0         \n",
            "_________________________________________________________________\n",
            "dense (Dense)                (None, 128)               3965056   \n",
            "_________________________________________________________________\n",
            "dense_1 (Dense)              (None, 12)                1548      \n",
            "=================================================================\n",
            "Total params: 3,990,188\n",
            "Trainable params: 3,990,188\n",
            "Non-trainable params: 0\n",
            "_________________________________________________________________\n"
          ],
          "name": "stdout"
        }
      ]
    },
    {
      "cell_type": "markdown",
      "metadata": {
        "id": "3CuuKLDnX5FY"
      },
      "source": [
        "Evaluate the model"
      ]
    },
    {
      "cell_type": "code",
      "metadata": {
        "colab": {
          "base_uri": "https://localhost:8080/"
        },
        "id": "Ia9F79CIX5FY",
        "outputId": "5b2c2051-1a6d-4813-c27a-48f0a882c253"
      },
      "source": [
        "test_loss, test_acc = loaded_model.evaluate(x_test, y_test, verbose=1)"
      ],
      "execution_count": null,
      "outputs": [
        {
          "output_type": "stream",
          "text": [
            "2/2 [==============================] - 1s 213ms/step - loss: 2.5621 - accuracy: 0.7667\n"
          ],
          "name": "stdout"
        }
      ]
    },
    {
      "cell_type": "code",
      "metadata": {
        "colab": {
          "base_uri": "https://localhost:8080/"
        },
        "id": "LL2nj5MuX5FY",
        "outputId": "9babab8a-290d-4d15-fe83-c79f13483a14"
      },
      "source": [
        "predictions = loaded_model.predict(x_test)\n",
        "predictions.shape"
      ],
      "execution_count": null,
      "outputs": [
        {
          "output_type": "execute_result",
          "data": {
            "text/plain": [
              "(60, 12)"
            ]
          },
          "metadata": {
            "tags": []
          },
          "execution_count": 18
        }
      ]
    },
    {
      "cell_type": "code",
      "metadata": {
        "colab": {
          "base_uri": "https://localhost:8080/"
        },
        "id": "w0z9-zV7X5FZ",
        "outputId": "f1d74b67-c139-4272-cb96-b8133d81642d"
      },
      "source": [
        "y_predicted_1=[]\n",
        "for i in range(len(predictions)):\n",
        "  y_predicted_1.append(np.argmax(predictions[i]))\n",
        "len(y_predicted)"
      ],
      "execution_count": null,
      "outputs": [
        {
          "output_type": "execute_result",
          "data": {
            "text/plain": [
              "60"
            ]
          },
          "metadata": {
            "tags": []
          },
          "execution_count": 19
        }
      ]
    },
    {
      "cell_type": "code",
      "metadata": {
        "colab": {
          "base_uri": "https://localhost:8080/"
        },
        "id": "HCZP-P57X5FZ",
        "outputId": "08ff64bd-1905-4cff-8158-41748e7db161"
      },
      "source": [
        "plt_x = [i for i in range(60)]\n",
        "plt_y = y_test\n",
        "plt.plot(plt_x,plt_y,label=\"Actual Class\")\n",
        "plt.plot(plt_x,y_predicted_1, label=\"Predicted Class\")\n",
        "plt.xlabel('Images Index')\n",
        "plt.ylabel('Class of Image')\n",
        "# Set a title of the current axes.\n",
        "plt.title('Actual Vs Predicted')\n",
        "plt.show()"
      ],
      "execution_count": null,
      "outputs": [
        {
          "output_type": "display_data",
          "data": {
            "image/png": "[encoded data removed]",
            "text/plain": [
              "<Figure size 432x288 with 1 Axes>"
            ]
          },
          "metadata": {
            "tags": [],
            "needs_background": "light"
          }
        }
      ]
    },
    {
      "cell_type": "markdown",
      "metadata": {
        "id": "ewE8ERUnUodW"
      },
      "source": [
        "For Sequential_3"
      ]
    },
    {
      "cell_type": "code",
      "metadata": {
        "id": "vbpDtjUAZZnY",
        "colab": {
          "base_uri": "https://localhost:8080/"
        },
        "outputId": "e6641770-a9e4-413c-b2b1-f78ec558f4f6"
      },
      "source": [
        "y_test_1 = test_set['labels']\n",
        "y_test_1[:2]"
      ],
      "execution_count": null,
      "outputs": [
        {
          "output_type": "execute_result",
          "data": {
            "text/plain": [
              "0    0\n",
              "1    0\n",
              "Name: labels, dtype: int64"
            ]
          },
          "metadata": {
            "tags": []
          },
          "execution_count": 21
        }
      ]
    },
    {
      "cell_type": "code",
      "metadata": {
        "colab": {
          "base_uri": "https://localhost:8080/"
        },
        "id": "o9IzyvWcZjX6",
        "outputId": "322e60a3-1544-462c-afd8-ccfc3dfa3946"
      },
      "source": [
        "y_test_1 = np.array([[int(i)] for i in y_test_1])\n",
        "y_test_1.shape"
      ],
      "execution_count": null,
      "outputs": [
        {
          "output_type": "execute_result",
          "data": {
            "text/plain": [
              "(60, 1)"
            ]
          },
          "metadata": {
            "tags": []
          },
          "execution_count": 22
        }
      ]
    },
    {
      "cell_type": "code",
      "metadata": {
        "colab": {
          "base_uri": "https://localhost:8080/"
        },
        "id": "Ya9dyQkB-pTH",
        "outputId": "55da26b4-2827-48e7-b633-f0304e41f950"
      },
      "source": [
        "y_test_1 = np_utils.to_categorical(y_test_1, 12)\n",
        "y_test_1.shape"
      ],
      "execution_count": null,
      "outputs": [
        {
          "output_type": "execute_result",
          "data": {
            "text/plain": [
              "(60, 12)"
            ]
          },
          "metadata": {
            "tags": []
          },
          "execution_count": 23
        }
      ]
    },
    {
      "cell_type": "code",
      "metadata": {
        "colab": {
          "base_uri": "https://localhost:8080/"
        },
        "id": "4f7Pvd3AYFJz",
        "outputId": "a61f907b-c6a1-493a-d51d-8c6edc9f35db"
      },
      "source": [
        "from keras.models import load_model\n",
        "loaded_model = load_model(\"/content/drive/MyDrive/Pests_Model/rachel_sequential_2.h5\")\n",
        "loaded_model.summary()"
      ],
      "execution_count": null,
      "outputs": [
        {
          "output_type": "stream",
          "text": [
            "Model: \"sequential\"\n",
            "_________________________________________________________________\n",
            "Layer (type)                 Output Shape              Param #   \n",
            "=================================================================\n",
            "rescaling (Rescaling)        (None, 180, 180, 3)       0         \n",
            "_________________________________________________________________\n",
            "conv2d (Conv2D)              (None, 180, 180, 50)      1400      \n",
            "_________________________________________________________________\n",
            "conv2d_1 (Conv2D)            (None, 180, 180, 75)      33825     \n",
            "_________________________________________________________________\n",
            "max_pooling2d (MaxPooling2D) (None, 90, 90, 75)        0         \n",
            "_________________________________________________________________\n",
            "dropout (Dropout)            (None, 90, 90, 75)        0         \n",
            "_________________________________________________________________\n",
            "conv2d_2 (Conv2D)            (None, 90, 90, 125)       84500     \n",
            "_________________________________________________________________\n",
            "max_pooling2d_1 (MaxPooling2 (None, 45, 45, 125)       0         \n",
            "_________________________________________________________________\n",
            "dropout_1 (Dropout)          (None, 45, 45, 125)       0         \n",
            "_________________________________________________________________\n",
            "flatten (Flatten)            (None, 253125)            0         \n",
            "_________________________________________________________________\n",
            "dense (Dense)                (None, 500)               126563000 \n",
            "_________________________________________________________________\n",
            "dropout_2 (Dropout)          (None, 500)               0         \n",
            "_________________________________________________________________\n",
            "dense_1 (Dense)              (None, 250)               125250    \n",
            "_________________________________________________________________\n",
            "dropout_3 (Dropout)          (None, 250)               0         \n",
            "_________________________________________________________________\n",
            "dense_2 (Dense)              (None, 12)                3012      \n",
            "=================================================================\n",
            "Total params: 126,810,987\n",
            "Trainable params: 126,810,987\n",
            "Non-trainable params: 0\n",
            "_________________________________________________________________\n"
          ],
          "name": "stdout"
        }
      ]
    },
    {
      "cell_type": "markdown",
      "metadata": {
        "id": "YptJvZzKYFJ0"
      },
      "source": [
        "Evaluate the model"
      ]
    },
    {
      "cell_type": "code",
      "metadata": {
        "colab": {
          "base_uri": "https://localhost:8080/"
        },
        "id": "i2hISiUwYFJ0",
        "outputId": "51110620-2e64-440d-ac19-4b79116301e2"
      },
      "source": [
        "test_loss, test_acc = loaded_model.evaluate(x_test, y_test_1, verbose=1)"
      ],
      "execution_count": null,
      "outputs": [
        {
          "output_type": "stream",
          "text": [
            "2/2 [==============================] - 3s 1s/step - loss: 2.2787 - accuracy: 0.2833\n"
          ],
          "name": "stdout"
        }
      ]
    },
    {
      "cell_type": "code",
      "metadata": {
        "colab": {
          "base_uri": "https://localhost:8080/"
        },
        "id": "qb0PKOSrYFJ0",
        "outputId": "5f2738d0-db53-4d86-e6ca-e6452333ae30"
      },
      "source": [
        "predictions = loaded_model.predict(x_test)\n",
        "predictions.shape"
      ],
      "execution_count": null,
      "outputs": [
        {
          "output_type": "execute_result",
          "data": {
            "text/plain": [
              "(60, 12)"
            ]
          },
          "metadata": {
            "tags": []
          },
          "execution_count": 26
        }
      ]
    },
    {
      "cell_type": "code",
      "metadata": {
        "colab": {
          "base_uri": "https://localhost:8080/"
        },
        "id": "gYElp1c7YFJ1",
        "outputId": "5df7cbf7-9f26-4ac5-ec20-e80a7933aa40"
      },
      "source": [
        "y_predicted_2=[]\n",
        "for i in range(len(predictions)):\n",
        "  y_predicted_2.append(np.argmax(predictions[i]))\n",
        "len(y_predicted_2)"
      ],
      "execution_count": null,
      "outputs": [
        {
          "output_type": "execute_result",
          "data": {
            "text/plain": [
              "60"
            ]
          },
          "metadata": {
            "tags": []
          },
          "execution_count": 27
        }
      ]
    },
    {
      "cell_type": "code",
      "metadata": {
        "colab": {
          "base_uri": "https://localhost:8080/"
        },
        "id": "v9gqUtY6YFJ1",
        "outputId": "6c8734ae-f3fc-4d3b-bdd9-a1eac36a1c14"
      },
      "source": [
        "plt_x = [i for i in range(60)]\n",
        "plt_y = y_test\n",
        "plt.plot(plt_x,plt_y,label=\"Actual Class\")\n",
        "plt.plot(plt_x,y_predicted_2, label=\"Predicted Class\")\n",
        "plt.xlabel('Images Index')\n",
        "plt.ylabel('Class of Image')\n",
        "# Set a title of the current axes.\n",
        "plt.title('Actual Vs Predicted')\n",
        "plt.show()"
      ],
      "execution_count": null,
      "outputs": [
        {
          "output_type": "display_data",
          "data": {
            "image/png": "[encoded data removed]",
            "text/plain": [
              "<Figure size 432x288 with 1 Axes>"
            ]
          },
          "metadata": {
            "tags": [],
            "needs_background": "light"
          }
        }
      ]
    },
    {
      "cell_type": "code",
      "metadata": {
        "colab": {
          "base_uri": "https://localhost:8080/"
        },
        "id": "KWRIczlUcR6L",
        "outputId": "5dbca827-e254-450b-d178-be1230477fff"
      },
      "source": [
        "\n",
        "fig, axs = plt.subplots(3,figsize=(10,10))\n",
        "\n",
        "axs[0].plot(plt_x,plt_y,label=\"Actual Class\")\n",
        "axs[0].plot(plt_x,y_predicted, label=\"Predicted Class for Sequential 1\")\n",
        "axs[0].set_xlabel('Images Index')\n",
        "axs[0].set_ylabel('Class of Image')\n",
        "axs[0].legend(bbox_to_anchor=(1.1, 1.05))\n",
        "axs[1].plot(plt_x,plt_y,label=\"Actual Class\")\n",
        "axs[1].plot(plt_x,y_predicted_1, label=\"Predicted Class for Sequential 2\")\n",
        "axs[1].set_xlabel('Images Index')\n",
        "axs[1].set_ylabel('Class of Image')\n",
        "axs[1].legend(bbox_to_anchor=(1.1, 1.05))\n",
        "axs[2].plot(plt_x,plt_y,label=\"Actual Class\")\n",
        "axs[2].plot(plt_x,y_predicted_2, label=\"Predicted Class for Sequential 3\")\n",
        "axs[2].set_xlabel('Images Index')\n",
        "axs[2].set_ylabel('Class of Image')\n",
        "axs[2].legend(bbox_to_anchor=(1.1, 1.05))\n",
        "plt.subplots_adjust(left=None, bottom=0, right=None, top=0.5, wspace=0.5, hspace=0.5)\n",
        "plt.show()"
      ],
      "execution_count": null,
      "outputs": [
        {
          "output_type": "display_data",
          "data": {
            "image/png": "[encoded data removed]",
            "text/plain": [
              "<Figure size 720x720 with 3 Axes>"
            ]
          },
          "metadata": {
            "tags": [],
            "needs_background": "light"
          }
        }
      ]
    }
  ]
}